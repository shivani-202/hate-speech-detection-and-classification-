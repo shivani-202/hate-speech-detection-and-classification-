{
  "nbformat": 4,
  "nbformat_minor": 0,
  "metadata": {
    "colab": {
      "provenance": [],
      "authorship_tag": "ABX9TyNaSiBSEOqLaTxzo/Akdp8V",
      "include_colab_link": true
    },
    "kernelspec": {
      "name": "python3",
      "display_name": "Python 3"
    },
    "language_info": {
      "name": "python"
    }
  },
  "cells": [
    {
      "cell_type": "markdown",
      "metadata": {
        "id": "view-in-github",
        "colab_type": "text"
      },
      "source": [
        "<a href=\"https://colab.research.google.com/github/shivani-202/hate-speech-detection-and-classification-/blob/main/datasetcreation.ipynb\" target=\"_parent\"><img src=\"https://colab.research.google.com/assets/colab-badge.svg\" alt=\"Open In Colab\"/></a>"
      ]
    },
    {
      "cell_type": "code",
      "execution_count": 14,
      "metadata": {
        "id": "DpJgopEaMF9F",
        "outputId": "dbed6d34-68ca-4d88-c34f-2694bb4014b4",
        "colab": {
          "base_uri": "https://localhost:8080/"
        }
      },
      "outputs": [
        {
          "output_type": "stream",
          "name": "stdout",
          "text": [
            "   id  label                                              tweet\n",
            "0   1      0   @user when a father is dysfunctional and is s...\n",
            "1   2      0  @user @user thanks for #lyft credit i can't us...\n",
            "2   3      0                                bihday your majesty\n",
            "3   4      0  #model   i love u take with u all the time in ...\n",
            "4   5      0             factsguide: society now    #motivation\n",
            "   column_a  count  hate_speech  offensive_language  neither  class  \\\n",
            "0         0      3            0                   0        3      2   \n",
            "1         1      3            0                   3        0      1   \n",
            "2         2      3            0                   3        0      1   \n",
            "3         3      3            0                   2        1      1   \n",
            "4         4      6            0                   6        0      1   \n",
            "\n",
            "                                               tweet  \n",
            "0  !!! RT @mayasolovely: As a woman you shouldn't...  \n",
            "1  !!!!! RT @mleew17: boy dats cold...tyga dwn ba...  \n",
            "2  !!!!!!! RT @UrKindOfBrand Dawg!!!! RT @80sbaby...  \n",
            "3  !!!!!!!!! RT @C_G_Anderson: @viva_based she lo...  \n",
            "4  !!!!!!!!!!!!! RT @ShenikaRoberts: The shit you...  \n"
          ]
        }
      ],
      "source": [
        "import numpy as np\n",
        "import pandas as pd\n",
        "\n",
        "df1 = pd.read_csv('/content/twittersentimentanalysis[use].csv')\n",
        "df2 = pd.read_csv('/content/DB2[use].csv')\n",
        "print(df1.head())\n",
        "print(df2.head())"
      ]
    },
    {
      "cell_type": "code",
      "source": [
        "print(df1['label'].value_counts())\n",
        "print(df2['class'].value_counts())"
      ],
      "metadata": {
        "id": "NGagdQhNOygP",
        "outputId": "ca726739-14f7-4658-ce20-329a676ce6f9",
        "colab": {
          "base_uri": "https://localhost:8080/"
        }
      },
      "execution_count": 15,
      "outputs": [
        {
          "output_type": "stream",
          "name": "stdout",
          "text": [
            "label\n",
            "0    29720\n",
            "1     2242\n",
            "Name: count, dtype: int64\n",
            "class\n",
            "1    19190\n",
            "2     4163\n",
            "0     1430\n",
            "Name: count, dtype: int64\n"
          ]
        }
      ]
    },
    {
      "cell_type": "code",
      "source": [
        "print(df1.isnull().sum())\n",
        "\n",
        "# Check for missing values in specific columns\n",
        "print(df1['tweet'].isnull().sum())\n",
        "print(df2.isnull().sum())"
      ],
      "metadata": {
        "id": "UmNgbASRO135",
        "outputId": "0e747397-901b-42d9-9a37-e5a81b7a3541",
        "colab": {
          "base_uri": "https://localhost:8080/"
        }
      },
      "execution_count": 16,
      "outputs": [
        {
          "output_type": "stream",
          "name": "stdout",
          "text": [
            "id       0\n",
            "label    0\n",
            "tweet    0\n",
            "dtype: int64\n",
            "0\n",
            "column_a              0\n",
            "count                 0\n",
            "hate_speech           0\n",
            "offensive_language    0\n",
            "neither               0\n",
            "class                 0\n",
            "tweet                 0\n",
            "dtype: int64\n"
          ]
        }
      ]
    },
    {
      "cell_type": "markdown",
      "source": [
        "No missing values are present in both datasets."
      ],
      "metadata": {
        "id": "bMg83LMnP_YH"
      }
    },
    {
      "cell_type": "code",
      "source": [
        "# Dropping columns\n",
        "df2 = df2.drop(['column_a', 'count', 'hate_speech', 'offensive_language', 'neither'], axis=1)\n",
        "\n",
        "df1 = df1.drop(['id'], axis=1)\n",
        "\n",
        "print(df1.head())\n",
        "print(df2.head())"
      ],
      "metadata": {
        "id": "OPwUmF5QQDag",
        "outputId": "fd33c848-dca1-4dd1-c3bc-b78c594ef96c",
        "colab": {
          "base_uri": "https://localhost:8080/"
        }
      },
      "execution_count": 17,
      "outputs": [
        {
          "output_type": "stream",
          "name": "stdout",
          "text": [
            "   label                                              tweet\n",
            "0      0   @user when a father is dysfunctional and is s...\n",
            "1      0  @user @user thanks for #lyft credit i can't us...\n",
            "2      0                                bihday your majesty\n",
            "3      0  #model   i love u take with u all the time in ...\n",
            "4      0             factsguide: society now    #motivation\n",
            "   class                                              tweet\n",
            "0      2  !!! RT @mayasolovely: As a woman you shouldn't...\n",
            "1      1  !!!!! RT @mleew17: boy dats cold...tyga dwn ba...\n",
            "2      1  !!!!!!! RT @UrKindOfBrand Dawg!!!! RT @80sbaby...\n",
            "3      1  !!!!!!!!! RT @C_G_Anderson: @viva_based she lo...\n",
            "4      1  !!!!!!!!!!!!! RT @ShenikaRoberts: The shit you...\n"
          ]
        }
      ]
    },
    {
      "cell_type": "code",
      "source": [
        "df2 = df2.rename(columns={'class': 'label'})\n",
        "print(df2.head())"
      ],
      "metadata": {
        "id": "0llg6ibHQYQ2",
        "outputId": "3e6245df-dc59-4260-9a87-724e527722a9",
        "colab": {
          "base_uri": "https://localhost:8080/"
        }
      },
      "execution_count": 18,
      "outputs": [
        {
          "output_type": "stream",
          "name": "stdout",
          "text": [
            "   label                                              tweet\n",
            "0      2  !!! RT @mayasolovely: As a woman you shouldn't...\n",
            "1      1  !!!!! RT @mleew17: boy dats cold...tyga dwn ba...\n",
            "2      1  !!!!!!! RT @UrKindOfBrand Dawg!!!! RT @80sbaby...\n",
            "3      1  !!!!!!!!! RT @C_G_Anderson: @viva_based she lo...\n",
            "4      1  !!!!!!!!!!!!! RT @ShenikaRoberts: The shit you...\n"
          ]
        }
      ]
    },
    {
      "cell_type": "code",
      "source": [
        "df2['label'] = df2['label'].replace(1, 0)\n",
        "print(df2.head())\n",
        "print(df2['label'].value_counts())"
      ],
      "metadata": {
        "id": "eYfYlfOsQvfz",
        "outputId": "1367afe5-aa32-4898-cc0b-82531c88d781",
        "colab": {
          "base_uri": "https://localhost:8080/"
        }
      },
      "execution_count": 19,
      "outputs": [
        {
          "output_type": "stream",
          "name": "stdout",
          "text": [
            "   label                                              tweet\n",
            "0      2  !!! RT @mayasolovely: As a woman you shouldn't...\n",
            "1      0  !!!!! RT @mleew17: boy dats cold...tyga dwn ba...\n",
            "2      0  !!!!!!! RT @UrKindOfBrand Dawg!!!! RT @80sbaby...\n",
            "3      0  !!!!!!!!! RT @C_G_Anderson: @viva_based she lo...\n",
            "4      0  !!!!!!!!!!!!! RT @ShenikaRoberts: The shit you...\n",
            "label\n",
            "0    20620\n",
            "2     4163\n",
            "Name: count, dtype: int64\n"
          ]
        }
      ]
    },
    {
      "cell_type": "code",
      "source": [
        "df2['label'] = df2['label'].replace(2, 1)\n",
        "print(df2.head())\n",
        "print(df2['label'].value_counts())"
      ],
      "metadata": {
        "id": "TKqE-jwBZruN",
        "outputId": "768044e8-5651-4080-9836-a64e9be70e49",
        "colab": {
          "base_uri": "https://localhost:8080/"
        }
      },
      "execution_count": 21,
      "outputs": [
        {
          "output_type": "stream",
          "name": "stdout",
          "text": [
            "   label                                              tweet\n",
            "0      1  !!! RT @mayasolovely: As a woman you shouldn't...\n",
            "1      0  !!!!! RT @mleew17: boy dats cold...tyga dwn ba...\n",
            "2      0  !!!!!!! RT @UrKindOfBrand Dawg!!!! RT @80sbaby...\n",
            "3      0  !!!!!!!!! RT @C_G_Anderson: @viva_based she lo...\n",
            "4      0  !!!!!!!!!!!!! RT @ShenikaRoberts: The shit you...\n",
            "label\n",
            "0    20620\n",
            "1     4163\n",
            "Name: count, dtype: int64\n"
          ]
        }
      ]
    },
    {
      "cell_type": "code",
      "source": [
        "df1['label'].value_counts()"
      ],
      "metadata": {
        "id": "yYwKrqXFRGcC",
        "outputId": "2d200488-281b-4f76-bd8f-2e8d7da0eccd",
        "colab": {
          "base_uri": "https://localhost:8080/",
          "height": 178
        }
      },
      "execution_count": 20,
      "outputs": [
        {
          "output_type": "execute_result",
          "data": {
            "text/plain": [
              "label\n",
              "0    29720\n",
              "1     2242\n",
              "Name: count, dtype: int64"
            ],
            "text/html": [
              "<div>\n",
              "<style scoped>\n",
              "    .dataframe tbody tr th:only-of-type {\n",
              "        vertical-align: middle;\n",
              "    }\n",
              "\n",
              "    .dataframe tbody tr th {\n",
              "        vertical-align: top;\n",
              "    }\n",
              "\n",
              "    .dataframe thead th {\n",
              "        text-align: right;\n",
              "    }\n",
              "</style>\n",
              "<table border=\"1\" class=\"dataframe\">\n",
              "  <thead>\n",
              "    <tr style=\"text-align: right;\">\n",
              "      <th></th>\n",
              "      <th>count</th>\n",
              "    </tr>\n",
              "    <tr>\n",
              "      <th>label</th>\n",
              "      <th></th>\n",
              "    </tr>\n",
              "  </thead>\n",
              "  <tbody>\n",
              "    <tr>\n",
              "      <th>0</th>\n",
              "      <td>29720</td>\n",
              "    </tr>\n",
              "    <tr>\n",
              "      <th>1</th>\n",
              "      <td>2242</td>\n",
              "    </tr>\n",
              "  </tbody>\n",
              "</table>\n",
              "</div><br><label><b>dtype:</b> int64</label>"
            ]
          },
          "metadata": {},
          "execution_count": 20
        }
      ]
    },
    {
      "cell_type": "code",
      "source": [
        "df2['label'] = df2['label'].replace(0, 2)\n",
        "print(df2.head())\n",
        "print(df2['label'].value_counts())\n",
        "df2['label'] = df2['label'].replace(1, 0)\n",
        "print(df2.head())\n",
        "print(df2['label'].value_counts())\n",
        "df2['label'] = df2['label'].replace(2, 1)\n",
        "print(df2.head())\n",
        "print(df2['label'].value_counts())"
      ],
      "metadata": {
        "id": "sq6htM53Z0rY",
        "outputId": "8188fbbf-5d52-4fcf-f61e-c53452be788e",
        "colab": {
          "base_uri": "https://localhost:8080/"
        }
      },
      "execution_count": 22,
      "outputs": [
        {
          "output_type": "stream",
          "name": "stdout",
          "text": [
            "   label                                              tweet\n",
            "0      1  !!! RT @mayasolovely: As a woman you shouldn't...\n",
            "1      2  !!!!! RT @mleew17: boy dats cold...tyga dwn ba...\n",
            "2      2  !!!!!!! RT @UrKindOfBrand Dawg!!!! RT @80sbaby...\n",
            "3      2  !!!!!!!!! RT @C_G_Anderson: @viva_based she lo...\n",
            "4      2  !!!!!!!!!!!!! RT @ShenikaRoberts: The shit you...\n",
            "label\n",
            "2    20620\n",
            "1     4163\n",
            "Name: count, dtype: int64\n",
            "   label                                              tweet\n",
            "0      0  !!! RT @mayasolovely: As a woman you shouldn't...\n",
            "1      2  !!!!! RT @mleew17: boy dats cold...tyga dwn ba...\n",
            "2      2  !!!!!!! RT @UrKindOfBrand Dawg!!!! RT @80sbaby...\n",
            "3      2  !!!!!!!!! RT @C_G_Anderson: @viva_based she lo...\n",
            "4      2  !!!!!!!!!!!!! RT @ShenikaRoberts: The shit you...\n",
            "label\n",
            "2    20620\n",
            "0     4163\n",
            "Name: count, dtype: int64\n",
            "   label                                              tweet\n",
            "0      0  !!! RT @mayasolovely: As a woman you shouldn't...\n",
            "1      1  !!!!! RT @mleew17: boy dats cold...tyga dwn ba...\n",
            "2      1  !!!!!!! RT @UrKindOfBrand Dawg!!!! RT @80sbaby...\n",
            "3      1  !!!!!!!!! RT @C_G_Anderson: @viva_based she lo...\n",
            "4      1  !!!!!!!!!!!!! RT @ShenikaRoberts: The shit you...\n",
            "label\n",
            "1    20620\n",
            "0     4163\n",
            "Name: count, dtype: int64\n"
          ]
        }
      ]
    },
    {
      "cell_type": "code",
      "source": [
        "hatespeech_dataset = pd.concat([df1, df2], ignore_index=True)\n",
        "print(hatespeech_dataset.head())\n",
        "print(hatespeech_dataset['label'].value_counts())"
      ],
      "metadata": {
        "id": "JICCVKGYQ6en",
        "outputId": "c056af19-ef11-495c-eedb-43e68ad8ed8d",
        "colab": {
          "base_uri": "https://localhost:8080/"
        }
      },
      "execution_count": 23,
      "outputs": [
        {
          "output_type": "stream",
          "name": "stdout",
          "text": [
            "   label                                              tweet\n",
            "0      0   @user when a father is dysfunctional and is s...\n",
            "1      0  @user @user thanks for #lyft credit i can't us...\n",
            "2      0                                bihday your majesty\n",
            "3      0  #model   i love u take with u all the time in ...\n",
            "4      0             factsguide: society now    #motivation\n",
            "label\n",
            "0    33883\n",
            "1    22862\n",
            "Name: count, dtype: int64\n"
          ]
        }
      ]
    },
    {
      "cell_type": "code",
      "source": [
        "from google.colab import files\n",
        "\n",
        "hatespeech_dataset.to_csv('hatespeech_dataset.csv', encoding = 'utf-8-sig')\n",
        "files.download('hatespeech_dataset.csv')"
      ],
      "metadata": {
        "id": "40CQHta6RMxa",
        "colab": {
          "base_uri": "https://localhost:8080/",
          "height": 17
        },
        "outputId": "53034c5b-fb97-48f8-beba-32ec0343a4ee"
      },
      "execution_count": 24,
      "outputs": [
        {
          "output_type": "display_data",
          "data": {
            "text/plain": [
              "<IPython.core.display.Javascript object>"
            ],
            "application/javascript": [
              "\n",
              "    async function download(id, filename, size) {\n",
              "      if (!google.colab.kernel.accessAllowed) {\n",
              "        return;\n",
              "      }\n",
              "      const div = document.createElement('div');\n",
              "      const label = document.createElement('label');\n",
              "      label.textContent = `Downloading \"${filename}\": `;\n",
              "      div.appendChild(label);\n",
              "      const progress = document.createElement('progress');\n",
              "      progress.max = size;\n",
              "      div.appendChild(progress);\n",
              "      document.body.appendChild(div);\n",
              "\n",
              "      const buffers = [];\n",
              "      let downloaded = 0;\n",
              "\n",
              "      const channel = await google.colab.kernel.comms.open(id);\n",
              "      // Send a message to notify the kernel that we're ready.\n",
              "      channel.send({})\n",
              "\n",
              "      for await (const message of channel.messages) {\n",
              "        // Send a message to notify the kernel that we're ready.\n",
              "        channel.send({})\n",
              "        if (message.buffers) {\n",
              "          for (const buffer of message.buffers) {\n",
              "            buffers.push(buffer);\n",
              "            downloaded += buffer.byteLength;\n",
              "            progress.value = downloaded;\n",
              "          }\n",
              "        }\n",
              "      }\n",
              "      const blob = new Blob(buffers, {type: 'application/binary'});\n",
              "      const a = document.createElement('a');\n",
              "      a.href = window.URL.createObjectURL(blob);\n",
              "      a.download = filename;\n",
              "      div.appendChild(a);\n",
              "      a.click();\n",
              "      div.remove();\n",
              "    }\n",
              "  "
            ]
          },
          "metadata": {}
        },
        {
          "output_type": "display_data",
          "data": {
            "text/plain": [
              "<IPython.core.display.Javascript object>"
            ],
            "application/javascript": [
              "download(\"download_986e04cf-a38c-42dd-8707-91e0f4e5a0a3\", \"hatespeech_dataset.csv\", 5462108)"
            ]
          },
          "metadata": {}
        }
      ]
    }
  ]
}