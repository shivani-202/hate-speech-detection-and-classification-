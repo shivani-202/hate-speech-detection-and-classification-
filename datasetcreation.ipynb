{
  "nbformat": 4,
  "nbformat_minor": 0,
  "metadata": {
    "colab": {
      "provenance": [],
      "authorship_tag": "ABX9TyNa5UbFaaqksPCVYQEykSxB",
      "include_colab_link": true
    },
    "kernelspec": {
      "name": "python3",
      "display_name": "Python 3"
    },
    "language_info": {
      "name": "python"
    }
  },
  "cells": [
    {
      "cell_type": "markdown",
      "metadata": {
        "id": "view-in-github",
        "colab_type": "text"
      },
      "source": [
        "<a href=\"https://colab.research.google.com/github/shivani-202/hate-speech-detection-and-classification-/blob/main/datasetcreation.ipynb\" target=\"_parent\"><img src=\"https://colab.research.google.com/assets/colab-badge.svg\" alt=\"Open In Colab\"/></a>"
      ]
    },
    {
      "cell_type": "code",
      "execution_count": 4,
      "metadata": {
        "id": "DpJgopEaMF9F",
        "outputId": "f57845a3-50c4-4457-bb49-41492597e52e",
        "colab": {
          "base_uri": "https://localhost:8080/"
        }
      },
      "outputs": [
        {
          "output_type": "stream",
          "name": "stdout",
          "text": [
            "   id  label                                              tweet\n",
            "0   1      0   @user when a father is dysfunctional and is s...\n",
            "1   2      0  @user @user thanks for #lyft credit i can't us...\n",
            "2   3      0                                bihday your majesty\n",
            "3   4      0  #model   i love u take with u all the time in ...\n",
            "4   5      0             factsguide: society now    #motivation\n",
            "   column_a  count  hate_speech  offensive_language  neither  class  \\\n",
            "0         0      3            0                   0        3      2   \n",
            "1         1      3            0                   3        0      1   \n",
            "2         2      3            0                   3        0      1   \n",
            "3         3      3            0                   2        1      1   \n",
            "4         4      6            0                   6        0      1   \n",
            "\n",
            "                                               tweet  \n",
            "0  !!! RT @mayasolovely: As a woman you shouldn't...  \n",
            "1  !!!!! RT @mleew17: boy dats cold...tyga dwn ba...  \n",
            "2  !!!!!!! RT @UrKindOfBrand Dawg!!!! RT @80sbaby...  \n",
            "3  !!!!!!!!! RT @C_G_Anderson: @viva_based she lo...  \n",
            "4  !!!!!!!!!!!!! RT @ShenikaRoberts: The shit you...  \n"
          ]
        }
      ],
      "source": [
        "import numpy as np\n",
        "import pandas as pd\n",
        "\n",
        "df1 = pd.read_csv('/content/twitterdataset01.csv')\n",
        "df2 = pd.read_csv('/content/DB2[use].csv')\n",
        "print(df1.head())\n",
        "print(df2.head())"
      ]
    },
    {
      "cell_type": "code",
      "source": [
        "print(df1['label'].value_counts())\n",
        "print(df2['class'].value_counts())"
      ],
      "metadata": {
        "id": "NGagdQhNOygP",
        "outputId": "fc96275f-5c38-4449-bc53-1d566d8a1c66",
        "colab": {
          "base_uri": "https://localhost:8080/"
        }
      },
      "execution_count": 6,
      "outputs": [
        {
          "output_type": "stream",
          "name": "stdout",
          "text": [
            "label\n",
            "0    29720\n",
            "1     2242\n",
            "Name: count, dtype: int64\n",
            "class\n",
            "1    19190\n",
            "2     4163\n",
            "0     1430\n",
            "Name: count, dtype: int64\n"
          ]
        }
      ]
    },
    {
      "cell_type": "code",
      "source": [
        "print(df1.isnull().sum())\n",
        "\n",
        "# Check for missing values in specific columns\n",
        "print(df1['tweet'].isnull().sum())\n",
        "print(df2.isnull().sum())"
      ],
      "metadata": {
        "id": "UmNgbASRO135",
        "outputId": "367e0a61-8b90-4fe3-fd56-536dec21f91b",
        "colab": {
          "base_uri": "https://localhost:8080/"
        }
      },
      "execution_count": 7,
      "outputs": [
        {
          "output_type": "stream",
          "name": "stdout",
          "text": [
            "id       0\n",
            "label    0\n",
            "tweet    0\n",
            "dtype: int64\n",
            "0\n",
            "column_a              0\n",
            "count                 0\n",
            "hate_speech           0\n",
            "offensive_language    0\n",
            "neither               0\n",
            "class                 0\n",
            "tweet                 0\n",
            "dtype: int64\n"
          ]
        }
      ]
    },
    {
      "cell_type": "markdown",
      "source": [
        "No missing values are present in both datasets."
      ],
      "metadata": {
        "id": "bMg83LMnP_YH"
      }
    },
    {
      "cell_type": "code",
      "source": [
        "# Dropping columns\n",
        "df2 = df2.drop(['column_a', 'count', 'hate_speech', 'offensive_language', 'neither'], axis=1)\n",
        "\n",
        "df1 = df1.drop(['id'], axis=1)\n",
        "\n",
        "print(df1.head())\n",
        "print(df2.head())"
      ],
      "metadata": {
        "id": "OPwUmF5QQDag",
        "outputId": "f3760ec0-6bf9-493b-94fa-103aff8f3848",
        "colab": {
          "base_uri": "https://localhost:8080/"
        }
      },
      "execution_count": 9,
      "outputs": [
        {
          "output_type": "stream",
          "name": "stdout",
          "text": [
            "   label                                              tweet\n",
            "0      0   @user when a father is dysfunctional and is s...\n",
            "1      0  @user @user thanks for #lyft credit i can't us...\n",
            "2      0                                bihday your majesty\n",
            "3      0  #model   i love u take with u all the time in ...\n",
            "4      0             factsguide: society now    #motivation\n",
            "   class                                              tweet\n",
            "0      2  !!! RT @mayasolovely: As a woman you shouldn't...\n",
            "1      1  !!!!! RT @mleew17: boy dats cold...tyga dwn ba...\n",
            "2      1  !!!!!!! RT @UrKindOfBrand Dawg!!!! RT @80sbaby...\n",
            "3      1  !!!!!!!!! RT @C_G_Anderson: @viva_based she lo...\n",
            "4      1  !!!!!!!!!!!!! RT @ShenikaRoberts: The shit you...\n"
          ]
        }
      ]
    },
    {
      "cell_type": "code",
      "source": [
        "df2 = df2.rename(columns={'class': 'label'})\n",
        "print(df2.head())"
      ],
      "metadata": {
        "id": "0llg6ibHQYQ2",
        "outputId": "3fec49d9-6a4e-44b7-9f15-34bff1583796",
        "colab": {
          "base_uri": "https://localhost:8080/"
        }
      },
      "execution_count": 10,
      "outputs": [
        {
          "output_type": "stream",
          "name": "stdout",
          "text": [
            "   label                                              tweet\n",
            "0      2  !!! RT @mayasolovely: As a woman you shouldn't...\n",
            "1      1  !!!!! RT @mleew17: boy dats cold...tyga dwn ba...\n",
            "2      1  !!!!!!! RT @UrKindOfBrand Dawg!!!! RT @80sbaby...\n",
            "3      1  !!!!!!!!! RT @C_G_Anderson: @viva_based she lo...\n",
            "4      1  !!!!!!!!!!!!! RT @ShenikaRoberts: The shit you...\n"
          ]
        }
      ]
    },
    {
      "cell_type": "code",
      "source": [
        "df2['label'] = df2['label'].replace(2, 0)\n",
        "print(df2.head())\n",
        "print(df2['label'].value_counts())"
      ],
      "metadata": {
        "id": "eYfYlfOsQvfz",
        "outputId": "02f581a2-1dfc-4267-c7ff-d5ade9ef9fbc",
        "colab": {
          "base_uri": "https://localhost:8080/"
        }
      },
      "execution_count": 12,
      "outputs": [
        {
          "output_type": "stream",
          "name": "stdout",
          "text": [
            "   label                                              tweet\n",
            "0      0  !!! RT @mayasolovely: As a woman you shouldn't...\n",
            "1      1  !!!!! RT @mleew17: boy dats cold...tyga dwn ba...\n",
            "2      1  !!!!!!! RT @UrKindOfBrand Dawg!!!! RT @80sbaby...\n",
            "3      1  !!!!!!!!! RT @C_G_Anderson: @viva_based she lo...\n",
            "4      1  !!!!!!!!!!!!! RT @ShenikaRoberts: The shit you...\n",
            "label\n",
            "1    19190\n",
            "0     5593\n",
            "Name: count, dtype: int64\n"
          ]
        }
      ]
    },
    {
      "cell_type": "code",
      "source": [
        "df1['label'].value_counts()"
      ],
      "metadata": {
        "id": "yYwKrqXFRGcC",
        "outputId": "5579e925-bbb3-4586-b6cd-7ac394a63521",
        "colab": {
          "base_uri": "https://localhost:8080/",
          "height": 178
        }
      },
      "execution_count": 14,
      "outputs": [
        {
          "output_type": "execute_result",
          "data": {
            "text/plain": [
              "label\n",
              "0    29720\n",
              "1     2242\n",
              "Name: count, dtype: int64"
            ],
            "text/html": [
              "<div>\n",
              "<style scoped>\n",
              "    .dataframe tbody tr th:only-of-type {\n",
              "        vertical-align: middle;\n",
              "    }\n",
              "\n",
              "    .dataframe tbody tr th {\n",
              "        vertical-align: top;\n",
              "    }\n",
              "\n",
              "    .dataframe thead th {\n",
              "        text-align: right;\n",
              "    }\n",
              "</style>\n",
              "<table border=\"1\" class=\"dataframe\">\n",
              "  <thead>\n",
              "    <tr style=\"text-align: right;\">\n",
              "      <th></th>\n",
              "      <th>count</th>\n",
              "    </tr>\n",
              "    <tr>\n",
              "      <th>label</th>\n",
              "      <th></th>\n",
              "    </tr>\n",
              "  </thead>\n",
              "  <tbody>\n",
              "    <tr>\n",
              "      <th>0</th>\n",
              "      <td>29720</td>\n",
              "    </tr>\n",
              "    <tr>\n",
              "      <th>1</th>\n",
              "      <td>2242</td>\n",
              "    </tr>\n",
              "  </tbody>\n",
              "</table>\n",
              "</div><br><label><b>dtype:</b> int64</label>"
            ]
          },
          "metadata": {},
          "execution_count": 14
        }
      ]
    },
    {
      "cell_type": "code",
      "source": [
        "hatespeech_dataset = pd.concat([df1, df2], ignore_index=True)\n",
        "print(hatespeech_dataset.head())\n",
        "print(hatespeech_dataset['label'].value_counts())"
      ],
      "metadata": {
        "id": "JICCVKGYQ6en",
        "outputId": "58eb6fa3-88e3-41d3-83c2-ebee5d5592d1",
        "colab": {
          "base_uri": "https://localhost:8080/"
        }
      },
      "execution_count": 13,
      "outputs": [
        {
          "output_type": "stream",
          "name": "stdout",
          "text": [
            "   label                                              tweet\n",
            "0      0   @user when a father is dysfunctional and is s...\n",
            "1      0  @user @user thanks for #lyft credit i can't us...\n",
            "2      0                                bihday your majesty\n",
            "3      0  #model   i love u take with u all the time in ...\n",
            "4      0             factsguide: society now    #motivation\n",
            "label\n",
            "0    35313\n",
            "1    21432\n",
            "Name: count, dtype: int64\n"
          ]
        }
      ]
    },
    {
      "cell_type": "code",
      "source": [
        "# prompt: download the dataset\n",
        "\n",
        "# Assuming the datasets are available to download from a URL or location\n",
        "# Replace 'dataset_url1' and 'dataset_url2' with actual URLs or file paths\n",
        "!wget dataset_url1 -O twitterdataset01.csv\n",
        "!wget dataset_url2 -O DB2[use].csv\n"
      ],
      "metadata": {
        "id": "40CQHta6RMxa"
      },
      "execution_count": null,
      "outputs": []
    }
  ]
}